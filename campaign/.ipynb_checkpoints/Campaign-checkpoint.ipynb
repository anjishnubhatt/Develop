{
 "cells": [
  {
   "cell_type": "markdown",
   "id": "c6595f3f",
   "metadata": {},
   "source": [
    "### Loading Libraries"
   ]
  },
  {
   "cell_type": "code",
   "execution_count": 1,
   "id": "209c0336",
   "metadata": {},
   "outputs": [],
   "source": [
    "import pandas as pd\n",
    "import warnings\n",
    "warnings.filterwarnings(\"ignore\")"
   ]
  },
  {
   "cell_type": "markdown",
   "id": "cf397f58",
   "metadata": {},
   "source": [
    "### Reading of dataset"
   ]
  },
  {
   "cell_type": "code",
   "execution_count": 2,
   "id": "746c02ab",
   "metadata": {},
   "outputs": [],
   "source": [
    "df = pd.read_csv('scanner_data.csv')"
   ]
  },
  {
   "cell_type": "markdown",
   "id": "6780008e",
   "metadata": {},
   "source": [
    "### Most purchased SKU"
   ]
  },
  {
   "cell_type": "code",
   "execution_count": 3,
   "id": "0883499f",
   "metadata": {},
   "outputs": [
    {
     "name": "stdout",
     "output_type": "stream",
     "text": [
      "The most purchased product is: CKDW0\n"
     ]
    }
   ],
   "source": [
    "# Group the DataFrame by SKU and calculate the sum of Quantity for each SKU\n",
    "grouped_df = df.groupby('SKU')['Quantity'].sum()\n",
    "\n",
    "# Find the SKU with the maximum total Quantity\n",
    "most_purchased_sku = grouped_df.idxmax()\n",
    "\n",
    "print(\"The most purchased product is:\", most_purchased_sku)"
   ]
  },
  {
   "cell_type": "markdown",
   "id": "20604ada",
   "metadata": {},
   "source": [
    "### Top 3 products purchased after the most purchased SKU"
   ]
  },
  {
   "cell_type": "code",
   "execution_count": 4,
   "id": "8e384d16",
   "metadata": {},
   "outputs": [
    {
     "name": "stdout",
     "output_type": "stream",
     "text": [
      "Top 3 products purchased after the most purchased SKU:\n",
      "['DR8BG', 'MAJO7', 'PVMO1']\n"
     ]
    }
   ],
   "source": [
    "most_purchased_sku = most_purchased_sku  # Replace with the SKU obtained from the previous code\n",
    "\n",
    "# Filter transactions after the purchase of the most purchased SKU by the customer\n",
    "after_purchase_df = df[df['Date'] > df[df['SKU'] == most_purchased_sku]['Date'].max()]\n",
    "\n",
    "# Group the filtered DataFrame by SKU and calculate the sum of Quantity for each SKU\n",
    "grouped_after_purchase_df = after_purchase_df.groupby('SKU')['Quantity'].sum()\n",
    "\n",
    "# Find the top 3 products that were most purchased after the purchase of the most purchased SKU\n",
    "top_3_purchased = grouped_after_purchase_df.nlargest(3).index.tolist()\n",
    "\n",
    "print(\"Top 3 products purchased after the most purchased SKU:\")\n",
    "print(top_3_purchased)\n"
   ]
  },
  {
   "cell_type": "markdown",
   "id": "810669e1",
   "metadata": {},
   "source": [
    "### Probability of purchasing the top 3 products for each customer who purchased the most_purchased_sku"
   ]
  },
  {
   "cell_type": "code",
   "execution_count": 5,
   "id": "ac40af0e",
   "metadata": {},
   "outputs": [
    {
     "name": "stdout",
     "output_type": "stream",
     "text": [
      "Probability of purchasing the top 3 products for each customer who purchased the most_purchased_sku:\n",
      "   Customer_ID  Transaction_Count  Conditional_Transaction_Count  Probability\n",
      "0         3595                  1                              1          1.0\n",
      "1        16783                  2                              1          0.5\n"
     ]
    }
   ],
   "source": [
    "most_purchased_sku = most_purchased_sku \n",
    "top_3_purchased = top_3_purchased \n",
    "\n",
    "customer_transactions = df[df['SKU'] == most_purchased_sku]\n",
    "\n",
    "# Group the customer transactions by Customer_ID and calculate the total number of transactions\n",
    "customer_transaction_count = customer_transactions.groupby('Customer_ID').size().reset_index(name='Transaction_Count')\n",
    "\n",
    "# Filter transactions for customers who purchased the top_3_purchased SKUs\n",
    "conditional_transactions = df[df['SKU'].isin(top_3_purchased)]\n",
    "\n",
    "# Group the conditional transactions by Customer_ID and calculate the total number of transactions\n",
    "conditional_transaction_count = conditional_transactions.groupby('Customer_ID').size().reset_index(name='Conditional_Transaction_Count')\n",
    "\n",
    "# Merge the transaction counts for each customer\n",
    "customer_probabilities = pd.merge(customer_transaction_count, conditional_transaction_count, on='Customer_ID', how='inner')\n",
    "\n",
    "# Calculate the probability for each customer\n",
    "customer_probabilities['Probability'] = customer_probabilities['Conditional_Transaction_Count'] / customer_probabilities['Transaction_Count']\n",
    "\n",
    "# Sort the customers by their probability in descending order\n",
    "customer_probabilities = customer_probabilities.sort_values('Probability', ascending=False)\n",
    "\n",
    "print(\"Probability of purchasing the top 3 products for each customer who purchased the most_purchased_sku:\")\n",
    "print(customer_probabilities)\n"
   ]
  },
  {
   "cell_type": "code",
   "execution_count": null,
   "id": "27a52eb7",
   "metadata": {},
   "outputs": [],
   "source": []
  }
 ],
 "metadata": {
  "kernelspec": {
   "display_name": "Python 3 (ipykernel)",
   "language": "python",
   "name": "python3"
  },
  "language_info": {
   "codemirror_mode": {
    "name": "ipython",
    "version": 3
   },
   "file_extension": ".py",
   "mimetype": "text/x-python",
   "name": "python",
   "nbconvert_exporter": "python",
   "pygments_lexer": "ipython3",
   "version": "3.10.9"
  }
 },
 "nbformat": 4,
 "nbformat_minor": 5
}
