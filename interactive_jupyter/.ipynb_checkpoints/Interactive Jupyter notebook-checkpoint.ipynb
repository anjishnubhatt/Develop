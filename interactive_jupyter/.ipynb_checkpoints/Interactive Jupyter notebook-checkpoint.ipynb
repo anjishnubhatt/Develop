{
 "cells": [
  {
   "cell_type": "code",
   "execution_count": null,
   "id": "8602ecb1",
   "metadata": {},
   "outputs": [],
   "source": [
    "import pandas as pd\n",
    "import ipywidgets as widgets\n",
    "from IPython.display import display\n",
    "\n",
    "# Sample DataFrame\n",
    "data = {\n",
    "    'Name': ['John', 'Alice', 'Bob', 'Charlie', 'David'],\n",
    "    'Age': [25, 30, 22, 35, 28],\n",
    "    'City': ['New York', 'San Francisco', 'Los Angeles', 'Chicago', 'Seattle']\n",
    "}\n",
    "\n",
    "df = pd.DataFrame(data)\n",
    "\n",
    "def create_dropdown(column):\n",
    "    return widgets.Dropdown(\n",
    "        options=['All'] + list(df[column].unique()),\n",
    "        value='All',\n",
    "        description=f'{column}:'\n",
    "    )\n",
    "\n",
    "# List of columns for which you want dropdowns\n",
    "columns_to_filter = ['Name', 'Age', 'City']\n",
    "\n",
    "# Create a dictionary of dropdowns for each specified column\n",
    "column_dropdowns = {column: create_dropdown(column) for column in columns_to_filter}\n",
    "\n",
    "# Function to update the displayed DataFrame based on the selected values\n",
    "def update_data(**kwargs):\n",
    "    filtered_df = df\n",
    "    for column, value in kwargs.items():\n",
    "        if value != 'All':\n",
    "            filtered_df = filtered_df[filtered_df[column] == value]\n",
    "    display(filtered_df)\n",
    "\n",
    "# Use the interactive widget with dynamic dropdowns\n",
    "interactive_filter = widgets.interactive(update_data, **column_dropdowns)\n",
    "\n",
    "# Display the interactive filter\n",
    "display(interactive_filter)\n"
   ]
  }
 ],
 "metadata": {
  "kernelspec": {
   "display_name": "Python 3 (ipykernel)",
   "language": "python",
   "name": "python3"
  },
  "language_info": {
   "codemirror_mode": {
    "name": "ipython",
    "version": 3
   },
   "file_extension": ".py",
   "mimetype": "text/x-python",
   "name": "python",
   "nbconvert_exporter": "python",
   "pygments_lexer": "ipython3",
   "version": "3.10.9"
  }
 },
 "nbformat": 4,
 "nbformat_minor": 5
}
