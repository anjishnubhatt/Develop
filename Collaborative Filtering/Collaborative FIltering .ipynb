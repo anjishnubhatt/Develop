{
 "cells": [
  {
   "cell_type": "markdown",
   "id": "9623c19e",
   "metadata": {},
   "source": [
    "### Importing Library"
   ]
  },
  {
   "cell_type": "code",
   "execution_count": 68,
   "id": "4cee5a24",
   "metadata": {},
   "outputs": [],
   "source": [
    "import pandas as pd\n",
    "from sklearn.metrics import mean_absolute_error\n",
    "from sklearn.model_selection import train_test_split\n",
    "from sklearn.metrics.pairwise import cosine_similarity"
   ]
  },
  {
   "cell_type": "markdown",
   "id": "e845fae4",
   "metadata": {},
   "source": [
    "### Reading the dataset and performing necesary operations"
   ]
  },
  {
   "cell_type": "code",
   "execution_count": 69,
   "id": "17911867",
   "metadata": {},
   "outputs": [],
   "source": [
    "df=pd.read_csv('ratings.csv')\n",
    "df['TotalTime']=100\n",
    "df['WatchTime'] = df.apply(lambda x: random.randint(0, 100))\n",
    "df['WatchTime'] = df['WatchTime'].apply(lambda x: random.randint(0, 100) if pd.isnull(x) else x)\n",
    "df.columns=['User', 'MovieID', 'Rating', 'timestamp', 'TotalTime', 'WatchTime']\n",
    "\n",
    "# Calculate the adjusted rating based on watch time\n",
    "df['AdjustedRating'] = df.apply(lambda row: row['Rating'] if row['WatchTime'] == row['TotalTime']\n",
    "                                else (row['WatchTime'] / row['TotalTime']) * row['Rating'], axis=1)"
   ]
  },
  {
   "cell_type": "markdown",
   "id": "070fa62f",
   "metadata": {},
   "source": [
    "### Train and Test split"
   ]
  },
  {
   "cell_type": "code",
   "execution_count": 70,
   "id": "841fc3b5",
   "metadata": {},
   "outputs": [],
   "source": [
    "# Pivot table to reshape the data\n",
    "pivot_table = df.pivot(index='User', columns='MovieID', values='AdjustedRating')\n",
    "\n",
    "# Split the data into training and test sets\n",
    "train_data, test_data = train_test_split(df, test_size=0.2, random_state=42)\n",
    "\n",
    "# Calculate the item-item similarity matrix based on adjusted ratings\n",
    "combined_similarity = cosine_similarity(pivot_table.fillna(0))"
   ]
  },
  {
   "cell_type": "markdown",
   "id": "c5f0d0e5",
   "metadata": {},
   "source": [
    "### Function creation "
   ]
  },
  {
   "cell_type": "code",
   "execution_count": 71,
   "id": "3c3e6b54",
   "metadata": {},
   "outputs": [],
   "source": [
    "# Function to get similar movies for a given movie\n",
    "def get_similar_movies(movie_id):\n",
    "    similar_movies = []\n",
    "    movie_index = pivot_table.index.get_loc(movie_id)\n",
    "    for idx, similarity in enumerate(combined_similarity[movie_index]):\n",
    "        if similarity > 0 and similarity < 1:\n",
    "            similar_movies.append(pivot_table.columns[idx])\n",
    "    return similar_movies"
   ]
  },
  {
   "cell_type": "markdown",
   "id": "63907191",
   "metadata": {},
   "source": [
    "### Example usage: Get similar movies for movie"
   ]
  },
  {
   "cell_type": "code",
   "execution_count": 72,
   "id": "ab09d485",
   "metadata": {},
   "outputs": [
    {
     "name": "stdout",
     "output_type": "stream",
     "text": [
      "Similar movies for 'Movie1': [1, 4, 5, 7, 9, 15, 17, 19, 20, 21, 22, 23, 25, 26, 27, 30, 31, 32, 34, 35, 36, 37, 39, 40, 42, 44, 49, 50, 57, 59, 60, 62, 64, 70, 72, 74, 78, 80, 81, 82, 83, 84, 86, 88, 94, 95, 97, 101, 102, 103, 105, 107, 111, 112, 114, 121, 122, 131, 132, 135, 145, 148, 150, 153, 154, 157, 161, 168, 170, 172, 174, 175, 177, 181, 186, 188, 198, 200, 201, 208, 209, 213, 215, 218, 220, 222, 223, 224, 225, 229, 234, 238, 239, 240, 241, 244, 247, 249, 251, 253, 255, 256, 259, 260, 263, 269, 270, 274, 275, 279, 280, 281, 285, 291, 294, 299, 307, 313, 314, 315, 316, 318, 320, 321, 324, 325, 326, 328, 329, 331, 333, 334, 337, 338, 340, 342, 343, 344, 345, 346, 347, 349, 352, 354, 360, 361, 363, 365, 370, 372, 373, 376, 377, 379, 381, 387, 388, 389, 390, 392, 405, 408, 409, 410, 412, 419, 421, 422, 429, 431, 434, 436, 437, 438, 440, 441, 444, 445, 448, 451, 453, 454, 455, 457, 458, 463, 470, 471, 474, 475, 480, 482, 483, 486, 488, 491, 493, 494, 505, 510, 511, 513, 514, 516, 519, 520, 521, 523, 524, 526, 528, 532, 535, 536, 537, 540, 542, 543, 552, 553, 556, 559, 563, 565, 568, 569, 571, 575, 580, 582, 585, 586, 587, 588, 592, 594, 596, 597, 600, 603, 605, 609, 611, 616, 617, 619, 620, 628, 631, 637, 639, 640, 647, 648, 651, 668, 670, 671, 673, 678, 679, 681, 687, 688, 690, 691, 695, 697, 700, 702, 703, 704, 705, 707, 709, 710, 711, 714, 715, 718, 719, 720, 724, 726, 728, 731, 735, 736, 737, 742, 746, 748, 760, 766, 769, 781, 782, 783, 793, 799, 801, 808, 809, 818, 824]\n"
     ]
    }
   ],
   "source": [
    "similar_movies = get_similar_movies(1)\n",
    "print(\"Similar movies for 'Movie1':\", similar_movies)"
   ]
  },
  {
   "cell_type": "markdown",
   "id": "e722aab9",
   "metadata": {},
   "source": [
    "### Evaluate the model using mean absolute error (MAE)"
   ]
  },
  {
   "cell_type": "code",
   "execution_count": 73,
   "id": "4c9d3488",
   "metadata": {},
   "outputs": [
    {
     "name": "stdout",
     "output_type": "stream",
     "text": [
      "Mean Absolute Error (MAE): 0.0\n"
     ]
    }
   ],
   "source": [
    "predictions = []\n",
    "for _, row in test_data.iterrows():\n",
    "    user = row['User']\n",
    "    movie = row['MovieID']\n",
    "    predicted_rating = pivot_table.loc[user, movie]\n",
    "    predictions.append(predicted_rating)\n",
    "\n",
    "actual_ratings = test_data['AdjustedRating']\n",
    "mae = mean_absolute_error(actual_ratings, predictions)\n",
    "print(\"Mean Absolute Error (MAE):\", mae)\n"
   ]
  },
  {
   "cell_type": "code",
   "execution_count": null,
   "id": "6c68cf29",
   "metadata": {},
   "outputs": [],
   "source": []
  },
  {
   "cell_type": "code",
   "execution_count": null,
   "id": "11b3f6f3",
   "metadata": {},
   "outputs": [],
   "source": []
  }
 ],
 "metadata": {
  "kernelspec": {
   "display_name": "Python 3 (ipykernel)",
   "language": "python",
   "name": "python3"
  },
  "language_info": {
   "codemirror_mode": {
    "name": "ipython",
    "version": 3
   },
   "file_extension": ".py",
   "mimetype": "text/x-python",
   "name": "python",
   "nbconvert_exporter": "python",
   "pygments_lexer": "ipython3",
   "version": "3.10.9"
  }
 },
 "nbformat": 4,
 "nbformat_minor": 5
}
