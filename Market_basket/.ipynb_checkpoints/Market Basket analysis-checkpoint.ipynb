{
 "cells": [
  {
   "cell_type": "markdown",
   "id": "325059e6",
   "metadata": {},
   "source": [
    "### Importing Library"
   ]
  },
  {
   "cell_type": "code",
   "execution_count": null,
   "id": "f7ff330e",
   "metadata": {},
   "outputs": [],
   "source": [
    "import warnings\n",
    "import pandas as pd\n",
    "from mlxtend.preprocessing import TransactionEncoder\n",
    "from mlxtend.frequent_patterns import apriori, association_rules, fpgrowth\n",
    "# Suppress warnings\n",
    "warnings.filterwarnings(\"ignore\")"
   ]
  },
  {
   "cell_type": "markdown",
   "id": "f9a1b81b",
   "metadata": {},
   "source": [
    "### Read the dataset"
   ]
  },
  {
   "cell_type": "code",
   "execution_count": null,
   "id": "9e85d508",
   "metadata": {},
   "outputs": [],
   "source": [
    "df = pd.read_csv('scanner_data.csv')"
   ]
  },
  {
   "cell_type": "markdown",
   "id": "1553ca7a",
   "metadata": {},
   "source": [
    "### Converting the datasets"
   ]
  },
  {
   "cell_type": "code",
   "execution_count": null,
   "id": "57b96b9a",
   "metadata": {},
   "outputs": [],
   "source": [
    "# Convert the dataset into a list of transactions\n",
    "transactions = df.groupby('Transaction ID')['Product ID'].apply(list).tolist()\n",
    "\n",
    "# Convert transaction data to a transaction matrix\n",
    "te = TransactionEncoder()\n",
    "te_ary = te.fit(transactions).transform(transactions)\n",
    "df_transformed = pd.DataFrame(te_ary, columns=te.columns_)"
   ]
  },
  {
   "cell_type": "markdown",
   "id": "e0a61487",
   "metadata": {},
   "source": [
    "### Frequent Items generation"
   ]
  },
  {
   "cell_type": "code",
   "execution_count": null,
   "id": "18e37096",
   "metadata": {},
   "outputs": [],
   "source": [
    "# Generate frequent itemsets using Apriori algorithm\n",
    "frequent_itemsets_apriori = apriori(df_transformed, min_support=0.001, use_colnames=True)\n",
    "\n",
    "# Generate frequent itemsets using FP-Growth algorithm\n",
    "frequent_itemsets_fpgrowth = fpgrowth(df_transformed, min_support=0.001, use_colnames=True)"
   ]
  },
  {
   "cell_type": "markdown",
   "id": "1156d275",
   "metadata": {},
   "source": [
    "### Generate association rules for each algorithm"
   ]
  },
  {
   "cell_type": "code",
   "execution_count": null,
   "id": "53afd754",
   "metadata": {},
   "outputs": [],
   "source": [
    "rules_apriori = association_rules(frequent_itemsets_apriori, metric=\"lift\", min_threshold=1)\n",
    "rules_fpgrowth = association_rules(frequent_itemsets_fpgrowth, metric=\"lift\", min_threshold=1)"
   ]
  },
  {
   "cell_type": "markdown",
   "id": "910aa48d",
   "metadata": {},
   "source": [
    "### Combine the rules from all algorithms"
   ]
  },
  {
   "cell_type": "code",
   "execution_count": null,
   "id": "3883e8a8",
   "metadata": {},
   "outputs": [],
   "source": [
    "all_rules = pd.concat([rules_apriori, rules_fpgrowth], ignore_index=True)\n",
    "\n",
    "# Sort the rules by confidence in descending order\n",
    "all_rules = all_rules.sort_values(by='confidence', ascending=False)"
   ]
  },
  {
   "cell_type": "code",
   "execution_count": 19,
   "id": "f01c6987",
   "metadata": {},
   "outputs": [
    {
     "name": "stdout",
     "output_type": "stream",
     "text": [
      "Rule 1: If someone buys 3YDVF, they will also buy DWJC4\n",
      "Rule 2: If someone buys 3YDVF, they will also buy DWJC4\n",
      "Rule 3: If someone buys DWJC4, they will also buy 3YDVF\n",
      "Rule 4: If someone buys DWJC4, they will also buy 3YDVF\n",
      "Rule 5: If someone buys COWU2, they will also buy UNJKW\n",
      "Rule 6: If someone buys COWU2, they will also buy UNJKW\n",
      "Rule 7: If someone buys UNJKW, they will also buy COWU2\n",
      "Rule 8: If someone buys UNJKW, they will also buy COWU2\n"
     ]
    }
   ],
   "source": [
    "# Print the recommended products likely to be sold together\n",
    "for i, rule in enumerate(all_rules.values):\n",
    "    antecedents = ', '.join(list(rule[0]))\n",
    "    consequents = ', '.join(list(rule[1]))\n",
    "    print(f\"Rule {i+1}: If someone buys {antecedents}, they will also buy {consequents}\")\n"
   ]
  },
  {
   "cell_type": "code",
   "execution_count": 20,
   "id": "b058efdf",
   "metadata": {},
   "outputs": [
    {
     "data": {
      "text/html": [
       "<div>\n",
       "<style scoped>\n",
       "    .dataframe tbody tr th:only-of-type {\n",
       "        vertical-align: middle;\n",
       "    }\n",
       "\n",
       "    .dataframe tbody tr th {\n",
       "        vertical-align: top;\n",
       "    }\n",
       "\n",
       "    .dataframe thead th {\n",
       "        text-align: right;\n",
       "    }\n",
       "</style>\n",
       "<table border=\"1\" class=\"dataframe\">\n",
       "  <thead>\n",
       "    <tr style=\"text-align: right;\">\n",
       "      <th></th>\n",
       "      <th>Product 1</th>\n",
       "      <th>Product 2</th>\n",
       "    </tr>\n",
       "  </thead>\n",
       "  <tbody>\n",
       "    <tr>\n",
       "      <th>0</th>\n",
       "      <td>3YDVF</td>\n",
       "      <td>DWJC4</td>\n",
       "    </tr>\n",
       "    <tr>\n",
       "      <th>1</th>\n",
       "      <td>3YDVF</td>\n",
       "      <td>DWJC4</td>\n",
       "    </tr>\n",
       "  </tbody>\n",
       "</table>\n",
       "</div>"
      ],
      "text/plain": [
       "  Product 1 Product 2\n",
       "0     3YDVF     DWJC4\n",
       "1     3YDVF     DWJC4"
      ]
     },
     "execution_count": 20,
     "metadata": {},
     "output_type": "execute_result"
    }
   ],
   "source": [
    "# Create a DataFrame to store the recommended products\n",
    "recommended_products_df = pd.DataFrame(columns=['Product 1', 'Product 2'])\n",
    "\n",
    "# Store the recommended products in the DataFrame\n",
    "for i, rule in enumerate(all_rules.values):\n",
    "    antecedents = ', '.join(list(rule[0]))\n",
    "    consequents = ', '.join(list(rule[1]))\n",
    "    recommended_products_df.loc[i] = [antecedents, consequents]\n",
    "\n",
    "recommended_products_df.head(2)"
   ]
  },
  {
   "cell_type": "code",
   "execution_count": null,
   "id": "c583f8e7",
   "metadata": {},
   "outputs": [],
   "source": []
  }
 ],
 "metadata": {
  "kernelspec": {
   "display_name": "Python 3 (ipykernel)",
   "language": "python",
   "name": "python3"
  },
  "language_info": {
   "codemirror_mode": {
    "name": "ipython",
    "version": 3
   },
   "file_extension": ".py",
   "mimetype": "text/x-python",
   "name": "python",
   "nbconvert_exporter": "python",
   "pygments_lexer": "ipython3",
   "version": "3.10.9"
  }
 },
 "nbformat": 4,
 "nbformat_minor": 5
}
